{
 "cells": [
  {
   "cell_type": "code",
   "execution_count": null,
   "metadata": {},
   "outputs": [],
   "source": [
    "# this one is for our fake miniatures\n",
    "import numpy as np\n",
    "import matplotlib.pyplot as plt\n",
    "from numpy.linalg import lstsq, inv\n",
    "import skimage.io as skio\n",
    "%pylab\n",
    "from skimage import filters"
   ]
  },
  {
   "cell_type": "code",
   "execution_count": null,
   "metadata": {
    "collapsed": true
   },
   "outputs": [],
   "source": [
    "# first step is to get DOF line. We do ginput and then we get ourselfs a best fit line through it\n",
    "# ginput to get points\n",
    "# do some linalgebra least squares sort of thing to get coeffients a, b of y = ax + b\n",
    "# or don't make it hard on yourself and just get the y coord\n",
    "\n",
    "def get_pts(im, num_points=2):\n",
    "    plt.imshow(im)\n",
    "    x = plt.ginput(num_points, timeout=200)\n",
    "    plt.close()\n",
    "    return x\n",
    "\n",
    "def get_line_coefficient(x_coords):\n",
    "    x_vect = [x[0] for x in x_coords]\n",
    "    y_vect = [x[1] for y in y_coords]\n",
    "    one_vect = np.ones(x_vect.shape)\n",
    "    A = np.concatenate(x_vect, one_vect)\n",
    "    b = y_vect\n",
    "    coeff = lstsq(A,b)[0]\n",
    "    return coeff\n",
    "\n"
   ]
  },
  {
   "cell_type": "code",
   "execution_count": null,
   "metadata": {},
   "outputs": [],
   "source": [
    "# let's create our mask here\n",
    "# we run the gaussian here\n",
    "def get_mask_y_coord(im_size, y_top, y_bottom, vert=False):\n",
    "    mask = np.zeros(im_size)\n",
    "    if (vert):\n",
    "        mask[:,max(int(y_top),0): min(int(y_bottom),len(mask))] = 1.0\n",
    "    else:\n",
    "        mask[max(int(y_top),0): min(int(y_bottom),len(mask))] = 1.0\n",
    "    return mask\n",
    "    \n",
    "def gaus_picture(im, n, sigma=1):\n",
    "    new_im = im\n",
    "    for i in range(0,n):\n",
    "        new_im = filters.gaussian(new_im, sigma)\n",
    "    return new_im"
   ]
  },
  {
   "cell_type": "code",
   "execution_count": null,
   "metadata": {
    "collapsed": true
   },
   "outputs": [],
   "source": [
    "# then we can take the picture again and run the gaussian x amount of times \n"
   ]
  },
  {
   "cell_type": "code",
   "execution_count": null,
   "metadata": {
    "collapsed": true
   },
   "outputs": [],
   "source": [
    "#we then use the blending of the three pictures, original, blurred and the mask like the function below\n",
    "def makeLS(LA, LB, GR):\n",
    "    LS = np.zeros((len(LA),len(LA[0]),1))\n",
    "    LS += GR*LA\n",
    "    LS += (1-GR)*LB\n",
    "    return np.clip(LS,0,1)"
   ]
  },
  {
   "cell_type": "code",
   "execution_count": 122,
   "metadata": {
    "collapsed": true
   },
   "outputs": [],
   "source": [
    "def blend_channel(im_ch, coords, margin=200, n = 5, sigma=2,vert=False):\n",
    "    if (vert):\n",
    "        y_top = coords[0][0]\n",
    "        y_bottom = coords[1][0]\n",
    "    else:\n",
    "        y_top = coords[0][1]\n",
    "        y_bottom = coords[1][1]\n",
    "    o_mask = get_mask_y_coord(im_ch.shape, y_top, y_bottom,vert=vert)\n",
    "    gaus_mask = np.clip(gaus_picture(o_mask, n, sigma),0,1)\n",
    "    gaus_im = np.clip(gaus_picture(im_ch, n, sigma), 0 ,1 )\n",
    "    new_im = np.dstack((gaus_mask, gaus_mask, gaus_mask))\n",
    "    fname = 'gaus_'+ 'random.jpg'\n",
    "    skio.imsave(fname, new_im)\n",
    "    return makeLS(im_ch, gaus_im, gaus_mask)"
   ]
  },
  {
   "cell_type": "code",
   "execution_count": 126,
   "metadata": {
    "collapsed": true
   },
   "outputs": [],
   "source": [
    "# let's write the main function\n",
    "# but I think we have to split the color channels \n",
    "def fake_mini(imname,sigma=3, vert=False):\n",
    "    im = (skio.imread(imname)/255)\n",
    "    coords = get_pts(im,2)\n",
    "    im_channels = np.dsplit(im,3)\n",
    "    fake_ch = [blend_channel(i,coords,sigma=sigma,vert=vert) for i in im_channels]\n",
    "    new_im = np.dstack(fake_ch)\n",
    "    fname = 'fake_'+ imname\n",
    "    skio.imsave(fname, new_im)"
   ]
  },
  {
   "cell_type": "code",
   "execution_count": 127,
   "metadata": {
    "collapsed": true
   },
   "outputs": [],
   "source": [
    "def main(argv):\n",
    "    if len(argv) < 2:\n",
    "        print('please give an image to input')\n",
    "        return\n",
    "    imname = argv[1]\n",
    "    if len(argv) > 2:\n",
    "        sigma = int(argv[2])\n",
    "    if len(argv) > 3:\n",
    "        vert = bool(argv[3])\n",
    "    fake_mini(imname, sigma, vert)"
   ]
  },
  {
   "cell_type": "code",
   "execution_count": null,
   "metadata": {},
   "outputs": [],
   "source": [
    "main('first_im.jpg')"
   ]
  },
  {
   "cell_type": "code",
   "execution_count": null,
   "metadata": {
    "collapsed": true
   },
   "outputs": [],
   "source": [
    "main('second_im.jpg')"
   ]
  },
  {
   "cell_type": "code",
   "execution_count": null,
   "metadata": {
    "collapsed": true
   },
   "outputs": [],
   "source": [
    "main('third_im.jpg',sigma=3)"
   ]
  },
  {
   "cell_type": "code",
   "execution_count": null,
   "metadata": {
    "collapsed": true
   },
   "outputs": [],
   "source": [
    "main('fourth_im.jpg')"
   ]
  },
  {
   "cell_type": "code",
   "execution_count": null,
   "metadata": {
    "collapsed": true
   },
   "outputs": [],
   "source": [
    "main('fifth_im.jpg')"
   ]
  },
  {
   "cell_type": "code",
   "execution_count": null,
   "metadata": {
    "collapsed": true
   },
   "outputs": [],
   "source": [
    "main('short_animation/im1.jpg',4)"
   ]
  },
  {
   "cell_type": "code",
   "execution_count": null,
   "metadata": {
    "collapsed": true
   },
   "outputs": [],
   "source": [
    "main('short_animation/im2.jpg',4)"
   ]
  },
  {
   "cell_type": "code",
   "execution_count": null,
   "metadata": {
    "collapsed": true
   },
   "outputs": [],
   "source": [
    "main('short_animation/im3.jpg',4)"
   ]
  },
  {
   "cell_type": "code",
   "execution_count": null,
   "metadata": {
    "collapsed": true
   },
   "outputs": [],
   "source": [
    "main('short_animation/im5.jpg',4)"
   ]
  },
  {
   "cell_type": "code",
   "execution_count": null,
   "metadata": {
    "collapsed": true
   },
   "outputs": [],
   "source": [
    "main('short_animation/im6.jpg',4)"
   ]
  },
  {
   "cell_type": "code",
   "execution_count": null,
   "metadata": {
    "collapsed": true
   },
   "outputs": [],
   "source": [
    "main('short_animation/im7.jpg',4)"
   ]
  },
  {
   "cell_type": "code",
   "execution_count": null,
   "metadata": {
    "collapsed": true
   },
   "outputs": [],
   "source": [
    "main('short_animation/im8.jpg',4)"
   ]
  },
  {
   "cell_type": "code",
   "execution_count": null,
   "metadata": {
    "collapsed": true
   },
   "outputs": [],
   "source": [
    "main('batam.jpg',0.5)"
   ]
  },
  {
   "cell_type": "code",
   "execution_count": null,
   "metadata": {
    "collapsed": true
   },
   "outputs": [],
   "source": [
    "main('shanghai2.jpg',0.5)"
   ]
  },
  {
   "cell_type": "code",
   "execution_count": 125,
   "metadata": {},
   "outputs": [],
   "source": [
    "main('shanghai3.jpg',0.5, vert=True)"
   ]
  },
  {
   "cell_type": "code",
   "execution_count": null,
   "metadata": {
    "collapsed": true
   },
   "outputs": [],
   "source": []
  }
 ],
 "metadata": {
  "kernelspec": {
   "display_name": "Python 3",
   "language": "python",
   "name": "python3"
  },
  "language_info": {
   "codemirror_mode": {
    "name": "ipython",
    "version": 3
   },
   "file_extension": ".py",
   "mimetype": "text/x-python",
   "name": "python",
   "nbconvert_exporter": "python",
   "pygments_lexer": "ipython3",
   "version": "3.4.1"
  }
 },
 "nbformat": 4,
 "nbformat_minor": 2
}
