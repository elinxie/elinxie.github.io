{
 "cells": [
  {
   "cell_type": "code",
   "execution_count": null,
   "metadata": {
    "collapsed": true
   },
   "outputs": [],
   "source": [
    "# CS194-26 (CS294-26): Project 3\n",
    "\n",
    "import numpy as np\n",
    "import skimage as sk\n",
    "import skimage.io as skio\n",
    "from skimage.transform import rescale\n",
    "import math\n",
    "from skimage import filters\n",
    "\n",
    "def image_sharpen(imname):\n",
    "    # read in the image\n",
    "    im = skio.imread(imname)\n",
    "    \n",
    "    # convert to double (might want to do this later on to save memory)    \n",
    "    im = sk.img_as_float(im)\n",
    "    \n",
    "    to_disp = filters.gaussian(im, 3)\n",
    "    skio.imshow(to_disp)\n",
    "    skio.show()\n",
    "    "
   ]
  }
 ],
 "metadata": {
  "kernelspec": {
   "display_name": "Python 2",
   "language": "python",
   "name": "python2"
  },
  "language_info": {
   "codemirror_mode": {
    "name": "ipython",
    "version": 2
   },
   "file_extension": ".py",
   "mimetype": "text/x-python",
   "name": "python",
   "nbconvert_exporter": "python",
   "pygments_lexer": "ipython2",
   "version": "2.7.11"
  }
 },
 "nbformat": 4,
 "nbformat_minor": 2
}
