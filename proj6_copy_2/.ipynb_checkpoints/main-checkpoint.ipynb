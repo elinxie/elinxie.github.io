{
 "cells": [
  {
   "cell_type": "code",
   "execution_count": 1,
   "metadata": {
    "collapsed": true
   },
   "outputs": [],
   "source": [
    "# tools to go blend objects\n",
    "\n",
    "import numpy as np\n",
    "import skimage as sk\n",
    "import skimage.io as skio\n",
    "from skimage.transform import rescale\n",
    "import math\n",
    "from skimage import filters\n",
    "\n",
    "    \n",
    "def gaussian_stack(im, N, sigma=1):\n",
    "    my_im = im\n",
    "    stack_lst = []\n",
    "    for i in range(0,N):\n",
    "        my_im = np.clip(filters.gaussian(my_im, sigma),0,1)\n",
    "        stack_lst += [my_im]\n",
    "    return stack_lst\n",
    "\n",
    "def laplace_stack(im, N, sigma=1):\n",
    "    a_im = im\n",
    "    stack_lst = []\n",
    "    for j in range(0,N - 1):\n",
    "        a_im = a_im - filters.gaussian(a_im, sigma)\n",
    "        stack_lst += [a_im]\n",
    "    stack_lst += [gaussian_stack(im,5)[-1]]\n",
    "    return stack_lst\n",
    "def make2dhybrid(im1, im2, im_m):\n",
    "    im1_stack = laplace_stack(im1,2)\n",
    "    im2_stack = laplace_stack(im2,2)\n",
    "    im_mask_stack = gaussian_stack(im_m,2,10)\n",
    "    return makeLS_stack(im1_stack, im2_stack, im_mask_stack)\n",
    "    \n",
    "def makeLS_stack(LA_s, LB_s, GR_s):\n",
    "    LS = np.zeros((len(LA_s[0]),len(LA_s[0][0]),1))\n",
    "    for LA, LB, GR in zip(LA_s,LB_s, GR_s):\n",
    "        LS += GR*LA\n",
    "        LS += (1-GR)*LB\n",
    "    return np.clip(LS,0,1)\n",
    "    \n",
    "def makeblack(img):\n",
    "    LS = img\n",
    "    for i in range(0, len(LA)):\n",
    "        for j in range(0,len(LA[0])):\n",
    "            g_int = LA[i][j]\n",
    "            print(g_int)  \n",
    "    return LS\n",
    "\n",
    "def multi_blend(im1, im2, im_mask):\n",
    "    [im1_r, im1_g, im1_b] = np.dsplit(im1,3)\n",
    "    [im2_r, im2_g, im2_b] = np.dsplit(im2,3)    \n",
    "    [im_m, im_m2, im_m3] = np.dsplit(im_mask, 3)\n",
    "    hybrid_r = make2dhybrid(im1_r, im2_r, im_m)\n",
    "    hybrid_g = make2dhybrid(im1_g, im2_g, im_m)\n",
    "    hybrid_b = make2dhybrid(im1_b, im2_b, im_m)\n",
    "    hybrid = np.dstack((hybrid_r, hybrid_g, hybrid_b))\n",
    "    print(hybrid_r.shape)\n",
    "    skio.imshow(hybrid)\n",
    "    skio.show()\n",
    "    return hybrid\n",
    "\n",
    "    "
   ]
  },
  {
   "cell_type": "code",
   "execution_count": null,
   "metadata": {
    "collapsed": true
   },
   "outputs": [],
   "source": []
  },
  {
   "cell_type": "code",
   "execution_count": null,
   "metadata": {
    "collapsed": true
   },
   "outputs": [],
   "source": [
    "# what do I do? Do I just grab the points in a plot?\n",
    "\n",
    "# magical point-grabbing function here that I used before\n"
   ]
  },
  {
   "cell_type": "code",
   "execution_count": 31,
   "metadata": {},
   "outputs": [
    {
     "name": "stdout",
     "output_type": "stream",
     "text": [
      "Using matplotlib backend: TkAgg\n",
      "Populating the interactive namespace from numpy and matplotlib\n"
     ]
    }
   ],
   "source": [
    "# here let's do the homography function and get it out of the way\n",
    "import numpy as np\n",
    "from numpy.linalg import lstsq, inv\n",
    "%pylab\n",
    "import math\n",
    "import numpy as np\n",
    "import matplotlib.pyplot as plt\n",
    "import skimage.transform as sktr\n",
    "import skimage as sk\n",
    "import skimage.io as skio\n",
    "from skimage.transform import rescale\n",
    "import math\n",
    "from skimage import filters\n",
    "import scipy as sp\n",
    "from skimage.draw import polygon\n",
    "from scipy.interpolate import RectBivariateSpline, interp2d\n",
    "from numpy.linalg import inv\n",
    "from scipy.spatial import Delaunay\n",
    "import os\n",
    "from itertools import combinations\n",
    "\n",
    "def dist(p1, p2):\n",
    "    (x1, y1), (x2, y2) = p1, p2\n",
    "    return math.sqrt((x2 - x1)**2 + (y2 - y1)**2)\n",
    "\n",
    "def get_avg_dist(points):\n",
    "    distances = [dist(p1, p2) for p1, p2 in combinations(points, 2)]\n",
    "    return sum(distances) / len(distances)\n",
    "\n",
    "def get_pts(im, num_points=36):\n",
    "    plt.imshow(im)\n",
    "    x = plt.ginput(num_points, timeout=200)\n",
    "    plt.close()\n",
    "    return x\n",
    "\n",
    "def get_points(im1, im2,num_points=36):\n",
    "    print('Please select 2 points in each image for alignment.')\n",
    "    x = get_pts(im1, num_points)\n",
    "    y = get_pts(im2, num_points)\n",
    "    return (x,y)\n",
    "\n",
    "def computeH(im1_pts, im2_pts):\n",
    "    if (len(im1_pts) != len(im2_pts)):\n",
    "        return \"hehe get your points aligned\"\n",
    "#     build b\n",
    "    b = []\n",
    "    A = []\n",
    "#     build my A\n",
    "    for p1, p2 in zip(im1_pts, im2_pts):\n",
    "        x1 = p1[0]\n",
    "        y1 = p1[1]\n",
    "        x2 = p2[0]\n",
    "        y2 = p2[1]\n",
    "        n_row_1 = [x1, y1, 1, 0 ,0 ,0, -x1*x2, -y1*x2]\n",
    "        n_row_2 = [0, 0, 0, x1, y1, 1, -x1*y2, -y1*y2]\n",
    "        A.append(n_row_1)\n",
    "        A.append(n_row_2)\n",
    "        b.append(x2)\n",
    "        b.append(y2)\n",
    "    A = np.array(A)\n",
    "    b = np.array(b)\n",
    "#     find h\n",
    "\n",
    "    A_T = np.transpose(A)\n",
    "#     h = np.dot(np.dot(inv(np.dot(A_T, A)),A_T),b)\n",
    "    h = lstsq(A,b)[0]\n",
    "\n",
    "    h = np.append(h, 1)\n",
    "\n",
    "    H = np.reshape(h, (3,3))\n",
    "    return H\n",
    "\n",
    "# so we have negative number, goal is to transform the matrix of the homography and then we can give shape after transformation\n",
    "# this is so we get the full image.\n",
    "# just shift by y\n",
    "def get_H_shape(im_height, im_width, H):\n",
    "#     just get the h shape first then do the rectification\n",
    "    corners = [[0,0,1],\n",
    "                [im_width, 0,1],\n",
    "                [im_width,im_height,1],\n",
    "                [0, im_height, 1]]\n",
    "\n",
    "    corners_T = [np.array(c).T for c in corners]\n",
    "    new_corners = [H.dot(cn) for cn in corners_T]\n",
    "    print(new_corners)\n",
    "    to_examine_x = [n[0]/n[2] for n in new_corners]\n",
    "    to_examine_y = [n[1]/n[2] for n in new_corners]\n",
    "    min_x = min(to_examine_x)\n",
    "    max_x = max(to_examine_x)\n",
    "    min_y = min(to_examine_y)\n",
    "    max_y = max(to_examine_y)\n",
    "    t_mat = np.identity(3)\n",
    "    t_mat[1][2] = -min_y\n",
    "    new_x = int(max(int(math.ceil(max_x - min_x), max_x))\n",
    "    new_y = int(max(int(math.ceil(max_y - min_y), max_y))\n",
    "    my_shape = (new_y, new_x)\n",
    "    \n",
    "    return my_shape, t_mat, min_x\n",
    "\n",
    "   \n",
    "# ideally, if we do not want the second image, then we can just have no im2name,\n",
    "# and then after we just show the rectified image \n",
    "# just have a different function\n",
    "# all this does is just turn a set of four points into a square, and places that square in the center of an image.\n",
    "# select points COUNTERCLOCKWISE\n",
    "def rect_image(im1name,  im1_pts=[]):\n",
    "    print(\"select points CLOCKWISE from top righthand corner\")\n",
    "    im1 = skio.imread(im1name)/255\n",
    "    if (im1_pts==[]):\n",
    "        im1_pts= get_pts(im1,4)\n",
    "    mid_x = int(len(im1[0])/2)\n",
    "    mid_y = int(len(im1)/2)\n",
    "    avg_dist_x = dist(im1_pts[0], im1_pts[1]) + dist(im1_pts[2], im1_pts[3]) / 2\n",
    "    avg_dist_y = dist(im1_pts[1], im1_pts[2]) + dist(im1_pts[3], im1_pts[0]) / 2\n",
    "    im2_pts = [[mid_x, mid_y], [mid_x+avg_dist_x, mid_y], [mid_x+avg_dist_x, mid_y+avg_dist_y], [mid_x, mid_y+avg_dist_y]]\n",
    "    H = computeH(im1_pts, im2_pts)\n",
    "    my_shape, t_mat, _ = get_H_shape(len(im1), len(im1[0]), H)\n",
    "    im1_rect = sk.transform.warp(im1, inv(t_mat.dot(H)), output_shape=my_shape)\n",
    "    plt.imshow(im1_rect)\n",
    "    skio.imsave('{0}_rect.jpg'.format(im1name[:-4]), np.clip(im1_rect,0,1))\n",
    "    return im1_rect\n",
    "\n",
    "# we want a function that can just transform an image based on a few points. \n",
    "def make_mosaic(im1name, im2name, im1_pts=[], im2_pts=[],lbl1=None, lbl2=None):\n",
    "    im1 = skio.imread(im1name)/255\n",
    "    im2 = skio.imread(im2name)/255\n",
    "    if (im1_pts==[] or im2_pts==[]):\n",
    "        im1_pts, im2_pts = get_points(im1, im2,10)\n",
    "    if (lbl1==None or lbl2==None):\n",
    "        lbl1 = im1name[-7:-4]\n",
    "        lbl2 = im2name[-7:-4]\n",
    "    H = computeH(im1_pts, im2_pts)\n",
    "    print(len(im1), print(len(im1[0])))\n",
    "    \n",
    "    my_shape, t_mat, min_x = get_H_shape(len(im1), len(im1[0]), H)\n",
    "    my_shape = (10000,10000)\n",
    "    print(my_shape)\n",
    "    im1_rect = sk.transform.warp(im1, inv(t_mat.dot(H)), output_shape=my_shape)\n",
    "    \n",
    "#     make naive\n",
    "    im2_rect = sk.transform.warp(im2, inv(t_mat), output_shape=(my_shape))\n",
    "    im1_mask = sk.transform.warp(im1, inv(H))\n",
    "    im1_mask =  sk.transform.warp(im1_mask, inv(t_mat), output_shape=my_shape)\n",
    "    im2_new = im2_rect - im1_mask\n",
    "    im_new = im2_new + im1_rect\n",
    "    plt.imshow(im_new)\n",
    "    skio.imsave('{0}_{1}_naive.jpg'.format(lbl1,lbl2), np.clip(im_new,0,1))\n",
    "    \n",
    "# make linear blend\n",
    "    alpha = 0.5\n",
    "    im1_new = im1_rect - im1_mask\n",
    "    im2_mask = im2_rect - im2_new\n",
    "    im_mask = alpha * im1_mask + (1-alpha) * im2_mask\n",
    "    im_lin = im1_new + im_mask + im2_new\n",
    "    skio.imsave('{0}_{1}_lin.jpg'.format(lbl1,lbl2), np.clip(im_lin,0,1))\n",
    "\n",
    "# make gaussian stack blend\n",
    "    \n",
    "    mid_pt = int(min_x + int((len(im2[0])-min_x)/2))\n",
    "    im_gaus = np.zeros(my_shape)\n",
    "    im_gaus[:,:mid_pt] = 1\n",
    "    im_mask_3d = np.dstack((im_gaus,im_gaus,im_gaus))\n",
    "    hybrid = multi_blend(im2_rect, im1_rect, im_mask_3d)\n",
    "    skio.imsave('{0}_{1}_lap.jpg'.format(lbl1,lbl2), np.clip(hybrid,0,1))\n",
    "    \n",
    "# we want a function that can just transform an image based on a few points. \n",
    "def make_mosaic_lin(im1name, im2name, im1_pts=[], im2_pts=[]):\n",
    "    im1 = skio.imread(im1name)/255\n",
    "    im2 = skio.imread(im2name)/255\n",
    "    if (im1_pts==[] or im2_pts==0):\n",
    "        im1_pts, im2_pts = get_points(im1, im2,10)\n",
    "    H = computeH(im1_pts, im2_pts)\n",
    "    my_shape, t_mat, min_x = get_H_shape(len(im1), len(im1[0]), H)\n",
    "    \n",
    "    im1_rect = sk.transform.warp(im1, inv(t_mat.dot(H)), output_shape=my_shape)\n",
    "    \n",
    "    \n",
    "#     make naive\n",
    "    im2_rect = sk.transform.warp(im2, inv(t_mat), output_shape=(my_shape))\n",
    "    im1_mask = sk.transform.warp(im1, inv(H))\n",
    "    im1_mask =  sk.transform.warp(im1_mask, inv(t_mat), output_shape=my_shape)\n",
    "    im2_new = im2_rect - im1_mask\n",
    "    im_new = im2_new + im1_rect\n",
    "    plt.imshow(im_new)\n",
    "    skio.imsave('im_new_naive.jpg', np.clip(im_new,0,1))\n",
    "    \n",
    "# make linear blend\n",
    "    alpha = 0.5\n",
    "    im1_new = im1_rect - im1_mask\n",
    "    im2_mask = im2_rect - im2_new\n",
    "    im_mask = alpha * im1_mask + (1-alpha) * im2_mask\n",
    "    im_lin = im1_new + im_mask + im2_new\n",
    "    skio.imsave('im_new_lin.jpg', np.clip(im_new,0,1))\n",
    "    "
   ]
  },
  {
   "cell_type": "code",
   "execution_count": null,
   "metadata": {
    "collapsed": true
   },
   "outputs": [],
   "source": []
  },
  {
   "cell_type": "code",
   "execution_count": null,
   "metadata": {
    "collapsed": true
   },
   "outputs": [],
   "source": [
    "rect_im_1 = rect_image('pictures_raw/unsorted/im3.jpg')"
   ]
  },
  {
   "cell_type": "code",
   "execution_count": null,
   "metadata": {
    "collapsed": true
   },
   "outputs": [],
   "source": [
    "rect_im_2 = rect_image('pictures_raw/unsorted/im4.jpg')"
   ]
  },
  {
   "cell_type": "code",
   "execution_count": 3,
   "metadata": {
    "collapsed": true
   },
   "outputs": [],
   "source": [
    "im1 = skio.imread('pictures_raw/first_set/im1.jpg')/255\n",
    "im2 = skio.imread('pictures_raw/first_set/im2.jpg')/255\n",
    "im1_pts=[(208.53225806451599, 375.06129032258059), (490.72580645161281, 416.86774193548354), (752.01612903225794, 448.22258064516109), (104.01612903225805, 1106.6741935483869), (407.11290322580646, 1138.0290322580645), (668.40322580645159, 1158.9322580645162), (30.854838709677438, 1827.8354838709674), (323.49999999999989, 1838.2870967741933), (616.14516129032256, 1848.7387096774191), (605.69354838709671, 2162.2870967741933)]\n",
    "im2_pts=[(2476.5322580645161, 563.19032258064499), (2696.016129032258, 563.19032258064499), (2915.5, 521.38387096774159), (2497.4354838709678, 1221.6419354838708), (2706.4677419354839, 1211.190322580645), (2936.4032258064517, 1190.2870967741933), (2486.983870967742, 1848.7387096774191), (2727.3709677419356, 1827.8354838709674), (2978.2096774193546, 1817.3838709677416), (2988.6612903225805, 2110.0290322580645)]\n"
   ]
  },
  {
   "cell_type": "code",
   "execution_count": null,
   "metadata": {
    "collapsed": true
   },
   "outputs": [],
   "source": [
    "# how am I going to do linear blending?\n",
    "# what I do is I get the coords of the mask, and then I will "
   ]
  },
  {
   "cell_type": "code",
   "execution_count": 5,
   "metadata": {},
   "outputs": [
    {
     "name": "stderr",
     "output_type": "stream",
     "text": [
      "/Library/Frameworks/Python.framework/Versions/3.4/lib/python3.4/site-packages/skimage/util/dtype.py:122: UserWarning: Possible precision loss when converting from float64 to uint8\n",
      "  .format(dtypeobj_in, dtypeobj_out))\n"
     ]
    },
    {
     "name": "stdout",
     "output_type": "stream",
     "text": [
      "(5878, 8389, 1)\n"
     ]
    }
   ],
   "source": [
    "make_mosaic('pictures_raw/first_set/im1.jpg','pictures_raw/first_set/im2.jpg', im1_pts, im2_pts,'im1','im2' )"
   ]
  },
  {
   "cell_type": "code",
   "execution_count": null,
   "metadata": {
    "collapsed": true
   },
   "outputs": [],
   "source": [
    "im5 = skio.imread('pictures_raw/unsorted/im5.jpg')/255\n",
    "im6 = skio.imread('pictures_raw/unsorted/im6.jpg')/255\n",
    "im5_pts, im6_pts = get_points(im5, im6, 10)"
   ]
  },
  {
   "cell_type": "code",
   "execution_count": 4,
   "metadata": {
    "collapsed": true
   },
   "outputs": [],
   "source": [
    "im5_pts = [(4660.8946350312235, 1164.1308895060438), (4677.5385597097593, 1369.4059605413127), (3151.8454641773556, 1846.5318013259916), (3307.1887611770185, 1846.5318013259916), (3523.5597819979771, 1846.5318013259916), (3762.122702390317, 1796.6000272903857), (3817.6024513187681, 2129.478520861092), (3939.6578989613604, 2129.478520861092), (3151.8454641773556, 2612.1523365386156), (3318.2847109627087, 2606.604361645771)]\n",
    "im6_pts = [(1775.9476907517701, 1180.7748141845791), (1775.9476907517701, 1369.4059605413127), (183.67889650522557, 1741.1202783619347), (388.9539675404942, 1752.2162281476249), (627.51688793283347, 1763.3121779333151), (904.91563257508869, 1724.4763536833993), (943.75145682500442, 2068.4507970397954), (1065.8069044675967, 2068.4507970397954), (150.39104714815494, 2601.0563867529254), (355.66611818342358, 2584.4124620743905)]"
   ]
  },
  {
   "cell_type": "code",
   "execution_count": 5,
   "metadata": {},
   "outputs": [
    {
     "name": "stderr",
     "output_type": "stream",
     "text": [
      "/Library/Frameworks/Python.framework/Versions/3.4/lib/python3.4/site-packages/skimage/util/dtype.py:122: UserWarning: Possible precision loss when converting from float64 to uint8\n",
      "  .format(dtypeobj_in, dtypeobj_out))\n"
     ]
    },
    {
     "name": "stdout",
     "output_type": "stream",
     "text": [
      "(8409, 12547, 1)\n"
     ]
    }
   ],
   "source": [
    "make_mosaic('pictures_raw/unsorted/im6.jpg','pictures_raw/unsorted/im5.jpg',im6_pts,im5_pts,'im5','im6')"
   ]
  },
  {
   "cell_type": "code",
   "execution_count": 11,
   "metadata": {
    "scrolled": true
   },
   "outputs": [
    {
     "name": "stdout",
     "output_type": "stream",
     "text": [
      "Please select 2 points in each image for alignment.\n"
     ]
    }
   ],
   "source": [
    "im7 = skio.imread('pictures_raw/unsorted_2/im7.jpg')/255\n",
    "im8 = skio.imread('pictures_raw/unsorted_2/im8.jpg')/255\n",
    "im9 = skio.imread('pictures_raw/unsorted_2/im9.jpg')/255\n",
    "im9_pts, im8_pts = get_points(im9, im8, 4)\n"
   ]
  },
  {
   "cell_type": "code",
   "execution_count": 13,
   "metadata": {},
   "outputs": [],
   "source": [
    "\n",
    "im9_pts = [(1451.7277722277722, 1187.176323676324), (2591.0684315684316, 1359.8036963036966), (2577.2582417582421, 2195.3201798201799), (1403.392107892108, 2202.2252747252751)]\n",
    "im8_pts = [(3438.0806451612907, 1305.2548387096772), (4483.2419354838712, 1367.9645161290323), (4493.6935483870966, 2162.2870967741933), (3438.0806451612907, 2162.2870967741933)]"
   ]
  },
  {
   "cell_type": "code",
   "execution_count": null,
   "metadata": {},
   "outputs": [
    {
     "name": "stdout",
     "output_type": "stream",
     "text": [
      "5184\n",
      "3456 None\n",
      "[array([  2.35929540e+03,   5.11762247e+02,   1.00000000e+00]), array([  4.49416306e+03,  -4.54761467e+02,   5.42478375e-01]), array([  4.73426590e+03,   2.20274536e+03,   5.78077564e-01]), array([  2.59939824e+03,   3.16926908e+03,   1.03559919e+00])]\n",
      "(10000, 10000)\n"
     ]
    }
   ],
   "source": [
    "make_mosaic('pictures_raw/unsorted_2/im9.jpg','pictures_raw/unsorted_2/im8.jpg', im9_pts, im8_pts )"
   ]
  },
  {
   "cell_type": "code",
   "execution_count": null,
   "metadata": {
    "collapsed": true
   },
   "outputs": [],
   "source": [
    "im98 = skio.imread('im9_im8_lap.jpg')/255\n",
    "im98_pts, im7_pts = get_pts(im_98, im7,4)"
   ]
  },
  {
   "cell_type": "code",
   "execution_count": null,
   "metadata": {
    "collapsed": true
   },
   "outputs": [],
   "source": [
    "make_mosaic('im9_im8_lap.jpg','pictures_raw/unsorted_2/im7.jpg', im98_pts, im7_pts )"
   ]
  },
  {
   "cell_type": "code",
   "execution_count": null,
   "metadata": {
    "collapsed": true
   },
   "outputs": [],
   "source": [
    "im1_pts, im2_pts = get_points(im1, im2,10)\n",
    "H = computeH(im1_pts, im2_pts)"
   ]
  },
  {
   "cell_type": "code",
   "execution_count": null,
   "metadata": {
    "collapsed": true
   },
   "outputs": [],
   "source": []
  },
  {
   "cell_type": "code",
   "execution_count": null,
   "metadata": {
    "collapsed": true
   },
   "outputs": [],
   "source": [
    "H = computeH(im1_pts, im2_pts)\n"
   ]
  },
  {
   "cell_type": "code",
   "execution_count": null,
   "metadata": {
    "collapsed": true
   },
   "outputs": [],
   "source": [
    "\n",
    "im1_rect = sk.transform.warp(im1, inv(H), output_shape=((len(im1) + len(im2),len(im1[0])+len(im2[0]))))\n",
    "plt.imshow(im1_rect)\n",
    "\n",
    "\n",
    "\n",
    "plt.imshow(im2)\n",
    "im2_new = sk.transform.warp(im2, np.identity(3), output_shape=((len(im1) + len(im2),len(im1[0])+len(im2[0]))))\n",
    "\n",
    "im1_mask = sk.transform.warp(im1, inv(H))\n",
    "im1_mask =  sk.transform.warp(im1_mask, np.identity(3), output_shape=((len(im1) + len(im2),len(im1[0])+len(im2[0]))))\n",
    "\n",
    "im2_new = im2_new - im1_mask\n",
    "im2_mask = im2_new-im1_mask\n",
    "im_new = im2_new + im1_rect\n",
    "plt.imshow(im_new)\n",
    "\n",
    "\n",
    "skio.imsave('im_new.jpg', np.clip(im_new,0,1))\n",
    "# this just cuts and paste\n",
    "\n"
   ]
  },
  {
   "cell_type": "code",
   "execution_count": null,
   "metadata": {
    "collapsed": true
   },
   "outputs": [],
   "source": [
    "get_H_shape(len(im1), len(im1[0]), H)\n",
    " \n"
   ]
  },
  {
   "cell_type": "code",
   "execution_count": null,
   "metadata": {
    "collapsed": true
   },
   "outputs": [],
   "source": [
    "print(np.shape(im1_rect))\n",
    "print(np.shape(im2_new))\n",
    "print(np.shape(im1_mask))"
   ]
  },
  {
   "cell_type": "code",
   "execution_count": null,
   "metadata": {
    "collapsed": true
   },
   "outputs": [],
   "source": [
    "mask_coord = np.nonzero(im1_rect)\n",
    "print(mask_coord)"
   ]
  },
  {
   "cell_type": "code",
   "execution_count": null,
   "metadata": {
    "collapsed": true
   },
   "outputs": [],
   "source": [
    "rr = mask_coord[0]\n",
    "cc = mask_coord[1]\n",
    "im_mask = np.zeros(np.shape(im1_rect))\n",
    "im_mask[rr,cc] = 1\n",
    "plt.show(im_mask)"
   ]
  },
  {
   "cell_type": "code",
   "execution_count": null,
   "metadata": {
    "collapsed": true
   },
   "outputs": [],
   "source": [
    "hybrid = multi_blend(im1_rect,im2_new, im1_mask)\n",
    "fname = 'mosaic_blend' + '.jpg'\n",
    "skio.imsave(fname, hybrid)"
   ]
  },
  {
   "cell_type": "code",
   "execution_count": null,
   "metadata": {
    "collapsed": true
   },
   "outputs": [],
   "source": [
    "im2_rect = sk.transform.warp(im2,H)\n",
    "\n",
    "plt.imshow(im2_rect)\n"
   ]
  },
  {
   "cell_type": "code",
   "execution_count": null,
   "metadata": {
    "collapsed": true
   },
   "outputs": [],
   "source": [
    "plt.imshow(im1)"
   ]
  },
  {
   "cell_type": "code",
   "execution_count": null,
   "metadata": {
    "collapsed": true
   },
   "outputs": [],
   "source": []
  },
  {
   "cell_type": "code",
   "execution_count": null,
   "metadata": {
    "collapsed": true
   },
   "outputs": [],
   "source": []
  },
  {
   "cell_type": "code",
   "execution_count": null,
   "metadata": {
    "collapsed": true
   },
   "outputs": [],
   "source": []
  }
 ],
 "metadata": {
  "kernelspec": {
   "display_name": "Python 3",
   "language": "python",
   "name": "python3"
  },
  "language_info": {
   "codemirror_mode": {
    "name": "ipython",
    "version": 3
   },
   "file_extension": ".py",
   "mimetype": "text/x-python",
   "name": "python",
   "nbconvert_exporter": "python",
   "pygments_lexer": "ipython3",
   "version": "3.4.1"
  }
 },
 "nbformat": 4,
 "nbformat_minor": 2
}
