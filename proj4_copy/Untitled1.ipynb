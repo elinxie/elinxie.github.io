{
 "cells": [
  {
   "cell_type": "code",
   "execution_count": null,
   "metadata": {},
   "outputs": [],
   "source": [
    "%pylab tk\n",
    "import matplotlib.pyplot as plt\n",
    "import matplotlib.image as mpimg\n",
    "import numpy as np\n",
    "\n",
    "# img=mpimg.imread('george_small.jpg')\n",
    "# imgplot = plt.imshow(img)\n",
    "# plt.show()\n",
    "img2=mpimg.imread('eric_med.png')\n",
    "plt.figure()\n",
    "plt.imshow(img2,hold=True)\n",
    "plt.ginput(10)\n",
    "# plt.show()\n",
    "# plt.axis('image')\n",
    "# im1=mpimg.imread('eric_med.JPG')\n",
    "# plt.imshow(im1)\n",
    "# plt.axis('image')\n",
    "# x = plt.ginput(4)"
   ]
  },
  {
   "cell_type": "code",
   "execution_count": null,
   "metadata": {
    "collapsed": true
   },
   "outputs": [],
   "source": []
  }
 ],
 "metadata": {
  "kernelspec": {
   "display_name": "Python 2",
   "language": "python",
   "name": "python2"
  },
  "language_info": {
   "codemirror_mode": {
    "name": "ipython",
    "version": 2
   },
   "file_extension": ".py",
   "mimetype": "text/x-python",
   "name": "python",
   "nbconvert_exporter": "python",
   "pygments_lexer": "ipython2",
   "version": "2.7.11"
  }
 },
 "nbformat": 4,
 "nbformat_minor": 2
}
