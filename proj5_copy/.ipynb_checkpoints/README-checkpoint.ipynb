{
 "cells": [
  {
   "cell_type": "markdown",
   "metadata": {},
   "source": [
    "# Project 5\n",
    "## Depth refocusing\n",
    "```def make_refocus_gif(dir_name, c_start, c_end, step=0.05)```\n",
    "\n",
    "To make a gif, to change your focus value from one value to another, put in the directory name of the lightfield images you want to use (make sure the only files in this directory are pictures, you can have different folders inside this directory however). The variables c_start and c_end are depth c values from -1.0 to 1.0. The function makes refocused images starting from the c_start value and going to the c_end value in steps of variable step. The default value is 0.05. The images are then put together as a gif.\n",
    "\n",
    "## Apeture Adujustment\n",
    "```def change_aperture(dir_name, start=0, end=8, c=0, lt_field=None)```\n",
    "\n",
    "To make a gif, to change your focus value from one value to another, put in the directory name of the lightfield images you want to use (make sure the only files in this directory are pictures, you can have different folders inside this directory however). The variables start and end are apeture n values from 0 to 8 (assuming your lightfield is a 17x17 matrix of images). The function makes refocused images starting from the c_start value and going to the c_end value in increments of 1. The variable c is the focus value we set all images in the gif. It works in the same way as in `make_refocus_gif`"
   ]
  },
  {
   "cell_type": "code",
   "execution_count": null,
   "metadata": {
    "collapsed": true
   },
   "outputs": [],
   "source": []
  }
 ],
 "metadata": {
  "kernelspec": {
   "display_name": "Python 3",
   "language": "python",
   "name": "python3"
  },
  "language_info": {
   "codemirror_mode": {
    "name": "ipython",
    "version": 3
   },
   "file_extension": ".py",
   "mimetype": "text/x-python",
   "name": "python",
   "nbconvert_exporter": "python",
   "pygments_lexer": "ipython3",
   "version": "3.4.1"
  }
 },
 "nbformat": 4,
 "nbformat_minor": 2
}
