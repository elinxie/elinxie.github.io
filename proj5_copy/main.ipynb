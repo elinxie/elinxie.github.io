{
 "cells": [
  {
   "cell_type": "code",
   "execution_count": null,
   "metadata": {
    "collapsed": true
   },
   "outputs": [],
   "source": [
    "# get pictures and then put them in dictionaries with their positions as keys \n",
    "from os import listdir\n",
    "from os.path import isfile, join\n",
    "import os\n",
    "import skimage as sk\n",
    "import skimage.io as skio\n",
    "import numpy as np\n",
    "import matplotlib.pyplot as plt"
   ]
  },
  {
   "cell_type": "code",
   "execution_count": null,
   "metadata": {
    "collapsed": true
   },
   "outputs": [],
   "source": [
    "class im_obj:\n",
    "    def __init__(self, filename):\n",
    "        self.filename = filename\n",
    "        self.data_lst = filename[:-4].split(\"_\")\n",
    "        self.x_index = int(self.data_lst[1])\n",
    "        self.y_index = int(self.data_lst[2])\n",
    "        self.x = float(self.data_lst[3])\n",
    "        self.y = float(self.data_lst[4])\n",
    "        self.im = skio.imread(filename).astype(int)\n",
    "    def x_ind(self):\n",
    "        return self.x_index\n",
    "    def y_ind(self):\n",
    "        return self.y_index\n",
    "    def x_float(self):\n",
    "        return self.x\n",
    "    def y_float(self):\n",
    "        return self.y\n",
    "    def x_int(self):\n",
    "        return int(self.x)\n",
    "    def y_int(self):\n",
    "        return int(self.y)\n",
    "    def im_float(self):\n",
    "        return self.im.astype(float)\n",
    "    def im_float(self):\n",
    "        return self.im\n",
    "    def name(self):\n",
    "        return self.filename\n",
    "    def __str__(self):\n",
    "        return self.filename\n",
    "    \n"
   ]
  },
  {
   "cell_type": "code",
   "execution_count": null,
   "metadata": {
    "collapsed": true
   },
   "outputs": [],
   "source": [
    "class lightfield:\n",
    "    def __init__(self, my_path):\n",
    "        self.onlyfiles = [im_obj(my_path + '/' + f) for f in listdir(my_path) if (isfile(join(my_path, f)) and f != '.DS_Store')]\n",
    "        self.width = self.onlyfiles[-1].x_ind() + 1\n",
    "        self.height = self.onlyfiles[-1].y_ind() + 1\n",
    "        self.im_mat = self.build_matrix()\n",
    "    def build_matrix(self):\n",
    "        n = (self.height, self.width)\n",
    "        new_mat = np.empty(n, dtype=im_obj)\n",
    "        for o_obj in self.onlyfiles:\n",
    "            new_mat[o_obj.y_ind()][o_obj.x_ind()] = o_obj\n",
    "        return new_mat"
   ]
  },
  {
   "cell_type": "code",
   "execution_count": null,
   "metadata": {
    "collapsed": true
   },
   "outputs": [],
   "source": [
    "def shift(image, shifts):\n",
    "    \"\"\"Shift image, because scipy's shift is uber slow.\n",
    "    \n",
    "    99.9% faster than scipy. Tested on 1400x800 image. lol. minus the pizzaz\n",
    "    \"\"\"\n",
    "    assert len(shifts) == len(image.shape), 'Dimensions must match'\n",
    "    new = np.zeros(image.shape)\n",
    "    og_selector, target_selector = [], []\n",
    "    for shift in shifts:\n",
    "        if shift == 0:\n",
    "            og_s, target_s = slice(None), slice(None)\n",
    "        elif shift > 0:\n",
    "            og_s, target_s = slice(shift, None), slice(None, -shift)\n",
    "        else:\n",
    "            og_s, target_s = slice(None, shift), slice(-shift, None)\n",
    "        og_selector.append(og_s)\n",
    "        target_selector.append(target_s)\n",
    "    new[og_selector] = image[target_selector]\n",
    "    return new"
   ]
  },
  {
   "cell_type": "code",
   "execution_count": null,
   "metadata": {
    "collapsed": true
   },
   "outputs": [],
   "source": [
    "def refocus_im(i_obj, m_x, m_y, c):\n",
    "    return shift(i_obj.im, (int(c*(m_x - i_obj.x)), int(c*(m_y - i_obj.y)), 0))"
   ]
  },
  {
   "cell_type": "code",
   "execution_count": null,
   "metadata": {
    "collapsed": true
   },
   "outputs": [],
   "source": [
    "def shift_im_stack(lt_field, c):\n",
    "    m_x_ind = int((lt_field.width - 1)/2)\n",
    "    m_y_ind = int((lt_field.height - 1)/2)\n",
    "    print(m_x_ind)\n",
    "    m_obj = lt_field.im_mat[m_y_ind][m_x_ind]\n",
    "    m_x = m_obj.x\n",
    "    m_y = m_obj.y\n",
    "    print(m_x)\n",
    "    print(m_y)\n",
    "    num_im = float(len(lt_field.onlyfiles))\n",
    "    new_im_lst = [refocus_im(o_obj, m_x, m_y, c)/num_im for o_obj in lt_field.onlyfiles]\n",
    "    sum_im = np.copy(new_im_lst[0])\n",
    "    for new_im in new_im_lst[1:]:\n",
    "        sum_im += new_im\n",
    "    return sum_im, new_im_lst"
   ]
  },
  {
   "cell_type": "code",
   "execution_count": null,
   "metadata": {
    "collapsed": true
   },
   "outputs": [],
   "source": [
    "def shift_im_mat(im_mat, c):\n",
    "    m_x_ind = int((len(im_mat[0]) - 1)/2)\n",
    "    m_y_ind = int((len(im_mat) - 1)/2)\n",
    "    m_obj = im_mat[m_y_ind][m_x_ind]\n",
    "    m_x = m_obj.x\n",
    "    m_y = m_obj.y\n",
    "    num_im = float(len(im_mat[0]) * len(im_mat))\n",
    "    new_shape = [int(num_im)]\n",
    "    if (len(im_mat.shape) > 2):\n",
    "        for a in im_mat.shape[2:]:\n",
    "            new_shape.append(a)\n",
    "    new_shape = tuple(new_shape) \n",
    "    im_obj_lst = np.reshape(im_mat, new_shape)\n",
    "    new_im_lst = [refocus_im(o_obj, m_x, m_y, c)/num_im for o_obj in im_obj_lst]\n",
    "    sum_im = np.copy(new_im_lst[0])\n",
    "    for new_im in new_im_lst[1:]:\n",
    "        sum_im += new_im\n",
    "    return sum_im, new_im_lst"
   ]
  },
  {
   "cell_type": "code",
   "execution_count": null,
   "metadata": {
    "collapsed": true
   },
   "outputs": [],
   "source": [
    "def shift_im_stack(lt_field, c):\n",
    "    return shift_im_mat(lt_field.im_mat, c)"
   ]
  },
  {
   "cell_type": "code",
   "execution_count": null,
   "metadata": {
    "collapsed": true
   },
   "outputs": [],
   "source": [
    "def make_refocus_gif(dir_name, c_start, c_end, step=0.05):\n",
    "    lt_field = lightfield(dir_name)\n",
    "    new_dir = dir_name+'/refocused'\n",
    "    if not os.path.exists(new_dir):\n",
    "        os.makedirs(new_dir)\n",
    "    for i,c in enumerate(np.arange(c_start, c_end + step, step)):\n",
    "        new_im, _ = shift_im_stack(lt_field, c)\n",
    "        fname = dir_name + '/refocused/refocus_' + str(1000 + i) + '.png'\n",
    "        skio.imsave(fname, new_im/255)\n",
    "    all_names = dir_name + '/refocused/refocus_*.png' \n",
    "    o_name = dir_name + '/refocused/animation_refocus.gif'\n",
    "    os.system('convert -delay 20 {0} {1}'.format(all_names, o_name))"
   ]
  },
  {
   "cell_type": "code",
   "execution_count": null,
   "metadata": {
    "collapsed": true
   },
   "outputs": [],
   "source": [
    "# so what you do is you make a method that takes in a path name and gives you a lightfield\n",
    "# another function that reduces your matrix from the middle, gets you a lot of images pertaining to that and stacks them\n",
    "def reduce_mat_middle(im_mat, x, y, n):\n",
    "    if (len(im_mat) <= 0):\n",
    "        print('im_mat is empty')\n",
    "        return None\n",
    "    if ((x - n < 0 or y - n < 0) or (x + n > len(im_mat[0]) or y + n > len(im_mat))):\n",
    "        print('n is too large')\n",
    "        return None\n",
    "    if (n == 0):\n",
    "        return np.array([[im_mat[y,x]]])\n",
    "    else:\n",
    "        x_start = x - n\n",
    "        x_end = x + n + 1\n",
    "        y_start = y - n \n",
    "        y_end = y + n + 1\n",
    "        return im_mat[y_start:y_end, x_start:x_end]\n"
   ]
  },
  {
   "cell_type": "code",
   "execution_count": null,
   "metadata": {
    "collapsed": true
   },
   "outputs": [],
   "source": [
    "def change_aperture(dir_name, start=0, end=8, c=0, lt_field=None):\n",
    "    if (start < 0):\n",
    "        print('cannot start from '+str(start))\n",
    "        return None\n",
    "    if (lt_field == None):\n",
    "        lt_field = lightfield(dir_name)\n",
    "    new_dir = dir_name+'/aperture'\n",
    "    if not os.path.exists(new_dir):\n",
    "        os.makedirs(new_dir)\n",
    "    for n in range(start, end + 1):\n",
    "        m_x_ind = int((lt_field.width - 1)/2)\n",
    "        m_y_ind = int((lt_field.height - 1)/2)\n",
    "        print(n)\n",
    "        new_mat = reduce_mat_middle(lt_field.im_mat, m_x_ind, m_y_ind, n)\n",
    "        new_im, _ = shift_im_mat(new_mat, c)\n",
    "        fname = dir_name + '/aperture/ap_' + str(1000 + n) + '.png'\n",
    "        skio.imsave(fname, np.clip(new_im/255, 0 ,1))\n",
    "    all_names = dir_name + '/aperture/ap_*.png' \n",
    "    o_name = dir_name + '/aperture/animation_aperture.gif'\n",
    "    os.system('convert -delay 20 {0} {1}'.format(all_names, o_name))\n",
    "        \n",
    "    "
   ]
  },
  {
   "cell_type": "code",
   "execution_count": null,
   "metadata": {},
   "outputs": [],
   "source": [
    "make_refocus_gif('rectified', -0.7, 0.5)"
   ]
  },
  {
   "cell_type": "code",
   "execution_count": null,
   "metadata": {},
   "outputs": [],
   "source": [
    "change_aperture('rectified', 0, 8, c = 0)"
   ]
  },
  {
   "cell_type": "code",
   "execution_count": null,
   "metadata": {},
   "outputs": [],
   "source": [
    "change_aperture('treasure', 0, 8, c = 0)"
   ]
  },
  {
   "cell_type": "code",
   "execution_count": null,
   "metadata": {},
   "outputs": [],
   "source": [
    "make_refocus_gif('treasure', -0.5, 0.5, step=0.1)"
   ]
  },
  {
   "cell_type": "code",
   "execution_count": null,
   "metadata": {
    "collapsed": true
   },
   "outputs": [],
   "source": []
  }
 ],
 "metadata": {
  "kernelspec": {
   "display_name": "Python 3",
   "language": "python",
   "name": "python3"
  },
  "language_info": {
   "codemirror_mode": {
    "name": "ipython",
    "version": 3
   },
   "file_extension": ".py",
   "mimetype": "text/x-python",
   "name": "python",
   "nbconvert_exporter": "python",
   "pygments_lexer": "ipython3",
   "version": "3.4.1"
  }
 },
 "nbformat": 4,
 "nbformat_minor": 2
}
